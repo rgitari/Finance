{
 "cells": [
  {
   "cell_type": "markdown",
   "metadata": {},
   "source": [
    "# Valuing Interest Rate Derivatives. \n",
    "## Lattice model for Options\n",
    "<p>Valuing a Callable Bond & Visualizing its price using the binomial option pricing model.</p>\n",
    "\n",
    "<p>Binomial Models of Interest Rates. Binomial models are often used for computation of fixed income securities and derivatives without assuming log normality.This is an import implication as it allows us to price American style options. Traditional contniues time models like Black–Scholes can only price European options.  </p>"
   ]
  },
  {
   "cell_type": "code",
   "execution_count": 16,
   "metadata": {},
   "outputs": [],
   "source": [
    "# Libraries we use \n",
    "suppressPackageStartupMessages(library(jrvFinance))\n",
    "suppressPackageStartupMessages(library(data.table))\n",
    "suppressPackageStartupMessages(library(optimx))\n",
    "suppressPackageStartupMessages(library(nloptr))\n",
    "suppressPackageStartupMessages(library(quantmod))\n",
    "suppressPackageStartupMessages(library(lubridate))"
   ]
  },
  {
   "cell_type": "code",
   "execution_count": 17,
   "metadata": {},
   "outputs": [],
   "source": [
    "# Functions we use \n",
    "# define DATE() function\n",
    "DATE <- function(yyyy,mm,dd) {\n",
    "  dte  <- as.Date(sprintf(\"%i-%i-%i\",yyyy,mm,dd),format=\"%Y-%m-%d\")\n",
    "  return(dte)\n",
    "}\n",
    "\n",
    "# Defining a function to print binomial trees \n",
    "prt.tree <- function(tree,digit=2) {\n",
    "  nt <- nrow(tree)\n",
    "  # transpose tree\n",
    "  trantree <- t(tree)\n",
    "  nt1 <- 2*nt-1\n",
    "  bintree  <- matrix(rep(\"\",nt1*nt),nrow=nt1,ncol=nt)\n",
    "  # convert to bin tree\n",
    "  i1 <- nt\n",
    "  for (j in 1:nt) {\n",
    "    i1 <- nt-j+1\n",
    "    for (i in 1:j) {\n",
    "      bintree[i1,j] <- as.character(round(trantree[i,j],digit))\n",
    "      i1 <- i1 + 2\n",
    "    }\n",
    "  }\n",
    "  rownames(bintree) <- rep(\"\",nt1)\n",
    "  colnames(bintree) <- rep(\"\",nt)\n",
    "  return(noquote(bintree))\n",
    "}"
   ]
  },
  {
   "cell_type": "code",
   "execution_count": null,
   "metadata": {},
   "outputs": [],
   "source": []
  },
  {
   "cell_type": "code",
   "execution_count": 18,
   "metadata": {},
   "outputs": [
    {
     "data": {
      "text/html": [
       "<table>\n",
       "<thead><tr><th scope=col>term</th><th scope=col>LIBOR</th></tr></thead>\n",
       "<tbody>\n",
       "\t<tr><td>Overnight</td><td>1.54263  </td></tr>\n",
       "\t<tr><td>1 week   </td><td>1.63000  </td></tr>\n",
       "\t<tr><td>1 month  </td><td>1.76250  </td></tr>\n",
       "\t<tr><td>2 month  </td><td>1.83313  </td></tr>\n",
       "\t<tr><td>3 month  </td><td>1.90838  </td></tr>\n",
       "</tbody>\n",
       "</table>\n"
      ],
      "text/latex": [
       "\\begin{tabular}{r|ll}\n",
       " term & LIBOR\\\\\n",
       "\\hline\n",
       "\t Overnight & 1.54263  \\\\\n",
       "\t 1 week    & 1.63000  \\\\\n",
       "\t 1 month   & 1.76250  \\\\\n",
       "\t 2 month   & 1.83313  \\\\\n",
       "\t 3 month   & 1.90838  \\\\\n",
       "\\end{tabular}\n"
      ],
      "text/markdown": [
       "\n",
       "| term | LIBOR |\n",
       "|---|---|\n",
       "| Overnight | 1.54263   |\n",
       "| 1 week    | 1.63000   |\n",
       "| 1 month   | 1.76250   |\n",
       "| 2 month   | 1.83313   |\n",
       "| 3 month   | 1.90838   |\n",
       "\n"
      ],
      "text/plain": [
       "  term      LIBOR  \n",
       "1 Overnight 1.54263\n",
       "2 1 week    1.63000\n",
       "3 1 month   1.76250\n",
       "4 2 month   1.83313\n",
       "5 3 month   1.90838"
      ]
     },
     "metadata": {},
     "output_type": "display_data"
    },
    {
     "data": {
      "text/html": [
       "<table>\n",
       "<thead><tr><th scope=col>maturity</th><th scope=col>FutPr</th></tr></thead>\n",
       "<tbody>\n",
       "\t<tr><td>1/13/2020</td><td>98.1825  </td></tr>\n",
       "\t<tr><td>2/18/2020</td><td>98.2450  </td></tr>\n",
       "\t<tr><td>3/16/2020</td><td>98.2650  </td></tr>\n",
       "\t<tr><td>4/9/2020 </td><td>98.2850  </td></tr>\n",
       "\t<tr><td>5/18/2020</td><td>98.3050  </td></tr>\n",
       "</tbody>\n",
       "</table>\n"
      ],
      "text/latex": [
       "\\begin{tabular}{r|ll}\n",
       " maturity & FutPr\\\\\n",
       "\\hline\n",
       "\t 1/13/2020 & 98.1825  \\\\\n",
       "\t 2/18/2020 & 98.2450  \\\\\n",
       "\t 3/16/2020 & 98.2650  \\\\\n",
       "\t 4/9/2020  & 98.2850  \\\\\n",
       "\t 5/18/2020 & 98.3050  \\\\\n",
       "\\end{tabular}\n"
      ],
      "text/markdown": [
       "\n",
       "| maturity | FutPr |\n",
       "|---|---|\n",
       "| 1/13/2020 | 98.1825   |\n",
       "| 2/18/2020 | 98.2450   |\n",
       "| 3/16/2020 | 98.2650   |\n",
       "| 4/9/2020  | 98.2850   |\n",
       "| 5/18/2020 | 98.3050   |\n",
       "\n"
      ],
      "text/plain": [
       "  maturity  FutPr  \n",
       "1 1/13/2020 98.1825\n",
       "2 2/18/2020 98.2450\n",
       "3 3/16/2020 98.2650\n",
       "4 4/9/2020  98.2850\n",
       "5 5/18/2020 98.3050"
      ]
     },
     "metadata": {},
     "output_type": "display_data"
    }
   ],
   "source": [
    "libor <- fread('/Users/robertgitari/Desktop/Fuqua\\ Academics/Term4/Fixed\\ Income\\ Securities/Assignments/Team/3/Q1a.csv')\n",
    "edf <- fread('/Users/robertgitari/Desktop/Fuqua\\ Academics/Term4/Fixed\\ Income\\ Securities/Assignments/Team/3/Q1b.csv')\n",
    "\n",
    "head(libor, 5)   # Libor Rates\n",
    "head(edf, 5)     # Future Prices and their maturity "
   ]
  },
  {
   "cell_type": "code",
   "execution_count": 19,
   "metadata": {},
   "outputs": [],
   "source": [
    "# number of compounding periods in a year\n",
    "m = 2 \n",
    "\n",
    "# length of a time step (in years)\n",
    "delt = 0.5 \n",
    "\n",
    "# number of periods \n",
    "N = 10 \n",
    "\n",
    "# number of time steps; 10*0.5 = 5 YEAR BOND \n",
    "deltm  <- delt*m   \n",
    "\n",
    "qtree= matrix(0, nrow=N+1, ncol=N+1)\n",
    "for (i in 1:(N+1)) {\n",
    "  for (j in 1:i) {\n",
    "    qtree[i,j] = 0.5\n",
    "  }\n",
    "}\n",
    "\n",
    "ztree = matrix(0, nrow=N+1, ncol=N+1)\n",
    "ztree[1,1] = 0.1\n",
    "for (i in 2:(N+1)) {\n",
    "  ztree[i,1] = ztree[i-1,1]+0.01\n",
    "  for (j in 2:i) {\n",
    "    ztree[i,j] = ztree[i,j-1]-0.02\n",
    "  }\n",
    "}\n"
   ]
  },
  {
   "cell_type": "markdown",
   "metadata": {},
   "source": [
    "## One-period spot rate Tree/Lattice:"
   ]
  },
  {
   "cell_type": "code",
   "execution_count": 20,
   "metadata": {},
   "outputs": [
    {
     "data": {
      "text/plain": [
       "                                                      \n",
       "                                                  0.2 \n",
       "                                             0.19     \n",
       "                                        0.18      0.18\n",
       "                                   0.17      0.17     \n",
       "                              0.16      0.16      0.16\n",
       "                         0.15      0.15      0.15     \n",
       "                    0.14      0.14      0.14      0.14\n",
       "               0.13      0.13      0.13      0.13     \n",
       "          0.12      0.12      0.12      0.12      0.12\n",
       "     0.11      0.11      0.11      0.11      0.11     \n",
       " 0.1      0.1       0.1       0.1       0.1       0.1 \n",
       "     0.09      0.09      0.09      0.09      0.09     \n",
       "          0.08      0.08      0.08      0.08      0.08\n",
       "               0.07      0.07      0.07      0.07     \n",
       "                    0.06      0.06      0.06      0.06\n",
       "                         0.05      0.05      0.05     \n",
       "                              0.04      0.04      0.04\n",
       "                                   0.03      0.03     \n",
       "                                        0.02      0.02\n",
       "                                             0.01     \n",
       "                                                  0   "
      ]
     },
     "metadata": {},
     "output_type": "display_data"
    }
   ],
   "source": [
    "prt.tree(ztree)"
   ]
  },
  {
   "cell_type": "code",
   "execution_count": 21,
   "metadata": {},
   "outputs": [],
   "source": [
    "# the price tree for the (non-callable) bond\n",
    "# 10-period 10% coupon bond price tree\n",
    "citree = matrix(0,nrow=N+1, ncol=N+1)\n",
    "C = 5\n",
    "for (i in 2:(N+1)) {\n",
    "  citree[i,c(1:i)] <- rep(C,i)\n",
    "}\n",
    "\n",
    "ptree = matrix(0,nrow=N+1, ncol=N+1)   # price tree, including coupon\n",
    "ptree[N+1,c(1:(N+1))] = rep(100,(N+1))\n",
    "for (i in N:1) {\n",
    "  i1 = i+1\n",
    "  ptree[i,1:i] = (qtree[i,1:i]*(ptree[i+1,1:i]+citree[i+1,1:i])+\n",
    "                    (1-qtree[i,1:i])*(ptree[i+1,2:i1]+citree[i+1,2:i1]))/(1+ztree[i,1:i]/m)^deltm\n",
    "}\n"
   ]
  },
  {
   "cell_type": "markdown",
   "metadata": {},
   "source": [
    "## Non-callable coupon bond price Tree/Lattice:"
   ]
  },
  {
   "cell_type": "code",
   "execution_count": 22,
   "metadata": {},
   "outputs": [
    {
     "data": {
      "text/plain": [
       "                                                                          \n",
       "                                                                       100\n",
       "                                                                95.89     \n",
       "                                                         92.97         100\n",
       "                                                  91.07         96.77     \n",
       "                                           90.08         94.65         100\n",
       "                                    89.92         93.51         97.67     \n",
       "                             90.52         93.24         96.39         100\n",
       "                      91.86         93.8          96.04         98.59     \n",
       "               93.92         95.14         96.55         98.17         100\n",
       "        96.72         97.26         97.9          98.66         99.53     \n",
       " 100.27        100.15        100.07        100.02        100           100\n",
       "        103.85        103.05        102.24        101.38        100.48    \n",
       "               106.89        105.31        103.65        101.89        100\n",
       "                      109.29        106.82        104.21        101.45    \n",
       "                             110.91        107.46        103.83        100\n",
       "                                    111.66        107.15        102.44    \n",
       "                                           111.45        105.83        100\n",
       "                                                  110.2         103.45    \n",
       "                                                         107.88        100\n",
       "                                                                104.48    \n",
       "                                                                       100"
      ]
     },
     "metadata": {},
     "output_type": "display_data"
    }
   ],
   "source": [
    "prt.tree(ptree)"
   ]
  },
  {
   "cell_type": "code",
   "execution_count": 23,
   "metadata": {},
   "outputs": [],
   "source": [
    "## Modify tree part C\n",
    "#the price tree for the European call option on this bond, with the strike price of 100 and maturity of 3 years\n",
    "X <- 100                                # strike price\n",
    "Nopt <- 6                              # option maturity is 6 periods\n",
    "ECall = matrix(0,nrow=Nopt+1, ncol=Nopt+1)   # option price tree\n",
    "for (j in (1:(Nopt+1))) {\n",
    "  ECall[Nopt+1,j] <- max( 0,ptree[Nopt+1,j]-X )\n",
    "}\n",
    "for (i in Nopt:1) {\n",
    "  \n",
    "  i1 = i+1\n",
    "  ECall[i,1:i] = (qtree[i,1:i]*ECall[i+1,1:i]+(1-qtree[i,1:i])*ECall[i+1,2:i1])/(1+ztree[i,1:i]/m)^deltm\n",
    "}"
   ]
  },
  {
   "cell_type": "markdown",
   "metadata": {},
   "source": [
    "## European call option price"
   ]
  },
  {
   "cell_type": "code",
   "execution_count": 24,
   "metadata": {},
   "outputs": [
    {
     "data": {
      "text/plain": [
       "                                    \n",
       "                               0    \n",
       "                          0         \n",
       "                     0         0    \n",
       "                0         0         \n",
       "           0.19      0         0    \n",
       "      0.64      0.4       0.01      \n",
       " 1.35      1.16      0.84      0.02 \n",
       "      2.19      2.04      1.76      \n",
       "           3.42      3.42      3.65 \n",
       "                5.08      5.37      \n",
       "                     7.08      7.46 \n",
       "                          9.22      \n",
       "                               11.45"
      ]
     },
     "metadata": {},
     "output_type": "display_data"
    }
   ],
   "source": [
    "prt.tree(ECall,2)"
   ]
  },
  {
   "cell_type": "code",
   "execution_count": 25,
   "metadata": {},
   "outputs": [],
   "source": [
    "#The callable bond is the non-callable bond minus the European call option\n",
    "\n",
    "for(i in 1:7){\n",
    "  for(j in 1:7){\n",
    "    ptree[i,j]<-ptree[i,j]-ECall[i,j]\n",
    "  }\n",
    "}\n"
   ]
  },
  {
   "cell_type": "markdown",
   "metadata": {},
   "source": [
    "## Callable bond price tree\n",
    "This callable bond price is just  the difference between the non-callable bond price tree and the European call option price tree"
   ]
  },
  {
   "cell_type": "code",
   "execution_count": 26,
   "metadata": {},
   "outputs": [
    {
     "data": {
      "text/plain": [
       "                                                                        \n",
       "                                                                     100\n",
       "                                                              95.89     \n",
       "                                                       92.97         100\n",
       "                                                91.07         96.77     \n",
       "                                          90.08        94.65         100\n",
       "                                   89.92        93.51         97.67     \n",
       "                            90.52         93.24        96.39         100\n",
       "                     91.86         93.8         96.04         98.59     \n",
       "              93.73         95.14         96.55        98.17         100\n",
       "       96.07         96.85         97.89        98.66         99.53     \n",
       " 98.92        98.98         99.22         100          100           100\n",
       "       101.65        101.01        100.48       101.38        100.48    \n",
       "              103.47        101.89        100          101.89        100\n",
       "                     104.21        101.45       104.21        101.45    \n",
       "                            103.83        100          103.83        100\n",
       "                                   102.44       107.15        102.44    \n",
       "                                          100          105.83        100\n",
       "                                                110.2         103.45    \n",
       "                                                       107.88        100\n",
       "                                                              104.48    \n",
       "                                                                     100"
      ]
     },
     "metadata": {},
     "output_type": "display_data"
    }
   ],
   "source": [
    "prt.tree(ptree)"
   ]
  }
 ],
 "metadata": {
  "kernelspec": {
   "display_name": "R",
   "language": "R",
   "name": "ir"
  },
  "language_info": {
   "codemirror_mode": "r",
   "file_extension": ".r",
   "mimetype": "text/x-r-source",
   "name": "R",
   "pygments_lexer": "r",
   "version": "3.6.1"
  }
 },
 "nbformat": 4,
 "nbformat_minor": 4
}
