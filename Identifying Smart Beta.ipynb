{
 "cells": [
  {
   "cell_type": "markdown",
   "metadata": {},
   "source": [
    "# Smart Beta Trading Strategies & Asset Pricing Models \n",
    "<p>Trading strategies that generate excess performance after adjusting for market risk have proliferated in recent years under the name “Smart Beta”. An investor considering such a strategy must evaluate whether the new method represents a repackaging of strategies or stylistic biases already in their portfolio, a new risky strategy for which they are being compensated, or genuine outperformance. </p>\n",
    "\n",
    "<p>The Sharpe ratio has been one of the most popular risk/return measures in finance, not least because it's so simple to use. It also helped that Professor Sharpe won a Nobel Memorial Prize in Economics in 1990 for his work on the capital asset pricing model (CAPM).</p>\n"
   ]
  },
  {
   "cell_type": "code",
   "execution_count": 25,
   "metadata": {},
   "outputs": [],
   "source": [
    "# Libraries we use \n",
    "suppressPackageStartupMessages(library(jrvFinance))\n",
    "suppressPackageStartupMessages(library(data.table))\n",
    "suppressPackageStartupMessages(library(tidyverse))\n",
    "suppressPackageStartupMessages(library(optimx))\n",
    "suppressPackageStartupMessages(library(nloptr))\n",
    "suppressPackageStartupMessages(library(quantmod))\n",
    "suppressPackageStartupMessages(library(lubridate))\n",
    "suppressPackageStartupMessages(library(ggthemes))"
   ]
  },
  {
   "cell_type": "code",
   "execution_count": 26,
   "metadata": {},
   "outputs": [
    {
     "data": {
      "text/html": [
       "<table>\n",
       "<thead><tr><th scope=col>Market.cap.weighted</th><th scope=col>Equal.weighted</th><th scope=col>Inverse.Vol</th><th scope=col>MVP.weighted</th><th scope=col>FundamentalComposite</th><th scope=col>Mkt.RF</th><th scope=col>SMB</th><th scope=col>HML</th><th scope=col>MOM</th><th scope=col>RF</th></tr></thead>\n",
       "<tbody>\n",
       "\t<tr><td>-0.0125     </td><td>-0.01324856 </td><td>-0.006409274</td><td> 0.004858860</td><td>-0.009260994</td><td>-0.0125     </td><td>-0.0079     </td><td> 0.0169     </td><td>-0.0015     </td><td>0.0053      </td></tr>\n",
       "\t<tr><td>-0.0584     </td><td>-0.07861493 </td><td>-0.061691488</td><td>-0.035497935</td><td>-0.050064176</td><td>-0.0584     </td><td>-0.0388     </td><td> 0.0092     </td><td>-0.0249     </td><td>0.0046      </td></tr>\n",
       "\t<tr><td> 0.0264     </td><td> 0.01620171 </td><td> 0.009716881</td><td>-0.008513143</td><td> 0.027363012</td><td> 0.0264     </td><td>-0.0026     </td><td>-0.0045     </td><td> 0.0395     </td><td>0.0046      </td></tr>\n",
       "</tbody>\n",
       "</table>\n"
      ],
      "text/latex": [
       "\\begin{tabular}{r|llllllllll}\n",
       " Market.cap.weighted & Equal.weighted & Inverse.Vol & MVP.weighted & FundamentalComposite & Mkt.RF & SMB & HML & MOM & RF\\\\\n",
       "\\hline\n",
       "\t -0.0125      & -0.01324856  & -0.006409274 &  0.004858860 & -0.009260994 & -0.0125      & -0.0079      &  0.0169      & -0.0015      & 0.0053      \\\\\n",
       "\t -0.0584      & -0.07861493  & -0.061691488 & -0.035497935 & -0.050064176 & -0.0584      & -0.0388      &  0.0092      & -0.0249      & 0.0046      \\\\\n",
       "\t  0.0264      &  0.01620171  &  0.009716881 & -0.008513143 &  0.027363012 &  0.0264      & -0.0026      & -0.0045      &  0.0395      & 0.0046      \\\\\n",
       "\\end{tabular}\n"
      ],
      "text/markdown": [
       "\n",
       "| Market.cap.weighted | Equal.weighted | Inverse.Vol | MVP.weighted | FundamentalComposite | Mkt.RF | SMB | HML | MOM | RF |\n",
       "|---|---|---|---|---|---|---|---|---|---|\n",
       "| -0.0125      | -0.01324856  | -0.006409274 |  0.004858860 | -0.009260994 | -0.0125      | -0.0079      |  0.0169      | -0.0015      | 0.0053       |\n",
       "| -0.0584      | -0.07861493  | -0.061691488 | -0.035497935 | -0.050064176 | -0.0584      | -0.0388      |  0.0092      | -0.0249      | 0.0046       |\n",
       "|  0.0264      |  0.01620171  |  0.009716881 | -0.008513143 |  0.027363012 |  0.0264      | -0.0026      | -0.0045      |  0.0395      | 0.0046       |\n",
       "\n"
      ],
      "text/plain": [
       "  Market.cap.weighted Equal.weighted Inverse.Vol  MVP.weighted\n",
       "1 -0.0125             -0.01324856    -0.006409274  0.004858860\n",
       "2 -0.0584             -0.07861493    -0.061691488 -0.035497935\n",
       "3  0.0264              0.01620171     0.009716881 -0.008513143\n",
       "  FundamentalComposite Mkt.RF  SMB     HML     MOM     RF    \n",
       "1 -0.009260994         -0.0125 -0.0079  0.0169 -0.0015 0.0053\n",
       "2 -0.050064176         -0.0584 -0.0388  0.0092 -0.0249 0.0046\n",
       "3  0.027363012          0.0264 -0.0026 -0.0045  0.0395 0.0046"
      ]
     },
     "metadata": {},
     "output_type": "display_data"
    },
    {
     "data": {
      "text/html": [
       "<ol class=list-inline>\n",
       "\t<li>'Market.cap.weighted'</li>\n",
       "\t<li>'Equal.weighted'</li>\n",
       "\t<li>'Inverse.Vol'</li>\n",
       "\t<li>'MVP.weighted'</li>\n",
       "\t<li>'FundamentalComposite'</li>\n",
       "</ol>\n"
      ],
      "text/latex": [
       "\\begin{enumerate*}\n",
       "\\item 'Market.cap.weighted'\n",
       "\\item 'Equal.weighted'\n",
       "\\item 'Inverse.Vol'\n",
       "\\item 'MVP.weighted'\n",
       "\\item 'FundamentalComposite'\n",
       "\\end{enumerate*}\n"
      ],
      "text/markdown": [
       "1. 'Market.cap.weighted'\n",
       "2. 'Equal.weighted'\n",
       "3. 'Inverse.Vol'\n",
       "4. 'MVP.weighted'\n",
       "5. 'FundamentalComposite'\n",
       "\n",
       "\n"
      ],
      "text/plain": [
       "[1] \"Market.cap.weighted\"  \"Equal.weighted\"       \"Inverse.Vol\"         \n",
       "[4] \"MVP.weighted\"         \"FundamentalComposite\""
      ]
     },
     "metadata": {},
     "output_type": "display_data"
    },
    {
     "data": {
      "text/html": [
       "0"
      ],
      "text/latex": [
       "0"
      ],
      "text/markdown": [
       "0"
      ],
      "text/plain": [
       "[1] 0"
      ]
     },
     "metadata": {},
     "output_type": "display_data"
    },
    {
     "data": {
      "text/html": [
       "<dl class=dl-horizontal>\n",
       "\t<dt>Market.cap.weighted</dt>\n",
       "\t\t<dd>0</dd>\n",
       "\t<dt>Equal.weighted</dt>\n",
       "\t\t<dd>0</dd>\n",
       "\t<dt>Inverse.Vol</dt>\n",
       "\t\t<dd>0</dd>\n",
       "\t<dt>MVP.weighted</dt>\n",
       "\t\t<dd>0</dd>\n",
       "\t<dt>FundamentalComposite</dt>\n",
       "\t\t<dd>0</dd>\n",
       "\t<dt>Mkt.RF</dt>\n",
       "\t\t<dd>0</dd>\n",
       "\t<dt>SMB</dt>\n",
       "\t\t<dd>0</dd>\n",
       "\t<dt>HML</dt>\n",
       "\t\t<dd>0</dd>\n",
       "\t<dt>MOM</dt>\n",
       "\t\t<dd>0</dd>\n",
       "\t<dt>RF</dt>\n",
       "\t\t<dd>0</dd>\n",
       "</dl>\n"
      ],
      "text/latex": [
       "\\begin{description*}\n",
       "\\item[Market.cap.weighted] 0\n",
       "\\item[Equal.weighted] 0\n",
       "\\item[Inverse.Vol] 0\n",
       "\\item[MVP.weighted] 0\n",
       "\\item[FundamentalComposite] 0\n",
       "\\item[Mkt.RF] 0\n",
       "\\item[SMB] 0\n",
       "\\item[HML] 0\n",
       "\\item[MOM] 0\n",
       "\\item[RF] 0\n",
       "\\end{description*}\n"
      ],
      "text/markdown": [
       "Market.cap.weighted\n",
       ":   0Equal.weighted\n",
       ":   0Inverse.Vol\n",
       ":   0MVP.weighted\n",
       ":   0FundamentalComposite\n",
       ":   0Mkt.RF\n",
       ":   0SMB\n",
       ":   0HML\n",
       ":   0MOM\n",
       ":   0RF\n",
       ":   0\n",
       "\n"
      ],
      "text/plain": [
       " Market.cap.weighted       Equal.weighted          Inverse.Vol \n",
       "                   0                    0                    0 \n",
       "        MVP.weighted FundamentalComposite               Mkt.RF \n",
       "                   0                    0                    0 \n",
       "                 SMB                  HML                  MOM \n",
       "                   0                    0                    0 \n",
       "                  RF \n",
       "                   0 "
      ]
     },
     "metadata": {},
     "output_type": "display_data"
    }
   ],
   "source": [
    "df = read.csv(\"/Users/robertgitari/Desktop/Fuqua\\ Academics/Term3/Intermediate\\ Finance/Cases/2/excess_return.csv\")\n",
    "strategy <- c(names(df[,c(1:5)]))\n",
    "head(df,3)\n",
    "strategy # Excess returns from each strategies and risk factors returns\n",
    "\n",
    "## Data cleaning. No nulls/NA's \n",
    "sum(is.na(df))\n",
    "colSums(is.na(df))"
   ]
  },
  {
   "cell_type": "code",
   "execution_count": 27,
   "metadata": {},
   "outputs": [
    {
     "data": {
      "text/html": [
       "<table>\n",
       "<thead><tr><th scope=col>strategies</th><th scope=col>sharpes</th></tr></thead>\n",
       "<tbody>\n",
       "\t<tr><td>Market.cap.weighted </td><td>0.2997447           </td></tr>\n",
       "\t<tr><td>Equal.weighted      </td><td>0.3845014           </td></tr>\n",
       "\t<tr><td>Inverse.Vol         </td><td>0.4516968           </td></tr>\n",
       "\t<tr><td>MVP.weighted        </td><td>0.4931280           </td></tr>\n",
       "\t<tr><td>FundamentalComposite</td><td>0.4114823           </td></tr>\n",
       "</tbody>\n",
       "</table>\n"
      ],
      "text/latex": [
       "\\begin{tabular}{r|ll}\n",
       " strategies & sharpes\\\\\n",
       "\\hline\n",
       "\t Market.cap.weighted  & 0.2997447           \\\\\n",
       "\t Equal.weighted       & 0.3845014           \\\\\n",
       "\t Inverse.Vol          & 0.4516968           \\\\\n",
       "\t MVP.weighted         & 0.4931280           \\\\\n",
       "\t FundamentalComposite & 0.4114823           \\\\\n",
       "\\end{tabular}\n"
      ],
      "text/markdown": [
       "\n",
       "| strategies | sharpes |\n",
       "|---|---|\n",
       "| Market.cap.weighted  | 0.2997447            |\n",
       "| Equal.weighted       | 0.3845014            |\n",
       "| Inverse.Vol          | 0.4516968            |\n",
       "| MVP.weighted         | 0.4931280            |\n",
       "| FundamentalComposite | 0.4114823            |\n",
       "\n"
      ],
      "text/plain": [
       "  strategies           sharpes  \n",
       "1 Market.cap.weighted  0.2997447\n",
       "2 Equal.weighted       0.3845014\n",
       "3 Inverse.Vol          0.4516968\n",
       "4 MVP.weighted         0.4931280\n",
       "5 FundamentalComposite 0.4114823"
      ]
     },
     "metadata": {},
     "output_type": "display_data"
    }
   ],
   "source": [
    "## Transforming the data to make it easier to use \n",
    "means = apply(df[,strategy], 2, mean, na.rm = TRUE)\n",
    "sds = apply(df[,strategy], 2, sd, na.rm = TRUE)\n",
    "\n",
    "sharpe <- function(mean,sd) {\n",
    "  sp = mean*12/ (sd* sqrt(12))\n",
    "}\n",
    "sharpes = sharpe(means,sds)\n",
    "\n",
    "sharpes = as.data.frame(sharpes)\n",
    "sharpes <- cbind(strategies = rownames(sharpes), sharpes)\n",
    "rownames(sharpes) <- 1:nrow(sharpes)\n",
    "sharpes"
   ]
  },
  {
   "cell_type": "code",
   "execution_count": 28,
   "metadata": {},
   "outputs": [
    {
     "data": {
      "image/png": "[encoded data removed]",
      "text/plain": [
       "plot without title"
      ]
     },
     "metadata": {},
     "output_type": "display_data"
    }
   ],
   "source": [
    "p <- ggplot(data=sharpes, aes(x=strategies, y=sharpes)) +\n",
    "   geom_bar(stat=\"identity\",fill=\"#00526D\") + labs(title= \"Trading Strategies Sharpe Ratio's\", y= \"Strategies\") \n",
    "p + coord_flip() + theme_economist() + scale_y_continuous(expand = c(0,0))  + theme(axis.title.y=element_blank())"
   ]
  },
  {
   "cell_type": "markdown",
   "metadata": {},
   "source": [
    "# CAPM: The One Factor Model"
   ]
  },
  {
   "cell_type": "code",
   "execution_count": 29,
   "metadata": {},
   "outputs": [
    {
     "data": {
      "text/html": [
       "<table>\n",
       "<tbody>\n",
       "\t<tr><th scope=row>(Intercept)</th><td>1.832807e-18</td><td>0.001386203 </td><td>0.002106599 </td><td>0.002752161 </td><td>0.001607559 </td></tr>\n",
       "\t<tr><th scope=row>mkt</th><td>1.000000e+00</td><td>1.017863654 </td><td>0.834084244 </td><td>0.467963004 </td><td>0.897891979 </td></tr>\n",
       "</tbody>\n",
       "</table>\n"
      ],
      "text/latex": [
       "\\begin{tabular}{r|lllll}\n",
       "\t(Intercept) & 1.832807e-18 & 0.001386203  & 0.002106599  & 0.002752161  & 0.001607559 \\\\\n",
       "\tmkt & 1.000000e+00 & 1.017863654  & 0.834084244  & 0.467963004  & 0.897891979 \\\\\n",
       "\\end{tabular}\n"
      ],
      "text/markdown": [
       "\n",
       "| (Intercept) | 1.832807e-18 | 0.001386203  | 0.002106599  | 0.002752161  | 0.001607559  |\n",
       "| mkt | 1.000000e+00 | 1.017863654  | 0.834084244  | 0.467963004  | 0.897891979  |\n",
       "\n"
      ],
      "text/plain": [
       "            [,1]         [,2]        [,3]        [,4]        [,5]       \n",
       "(Intercept) 1.832807e-18 0.001386203 0.002106599 0.002752161 0.001607559\n",
       "mkt         1.000000e+00 1.017863654 0.834084244 0.467963004 0.897891979"
      ]
     },
     "metadata": {},
     "output_type": "display_data"
    },
    {
     "name": "stderr",
     "output_type": "stream",
     "text": [
      "Warning message in summary.lm(X[[i]], ...):\n",
      "“essentially perfect fit: summary may be unreliable”"
     ]
    },
    {
     "data": {
      "text/html": [
       "<dl>\n",
       "\t<dt>$Market.cap.weighted</dt>\n",
       "\t\t<dd><table>\n",
       "<thead><tr><th></th><th scope=col>Estimate</th><th scope=col>Pr(&gt;|t|)</th></tr></thead>\n",
       "<tbody>\n",
       "\t<tr><th scope=row>(Intercept)</th><td>1.832807e-18</td><td>0.01423337  </td></tr>\n",
       "\t<tr><th scope=row>mkt</th><td>1.000000e+00</td><td>0.00000000  </td></tr>\n",
       "</tbody>\n",
       "</table>\n",
       "</dd>\n",
       "\t<dt>$Equal.weighted</dt>\n",
       "\t\t<dd><table>\n",
       "<thead><tr><th></th><th scope=col>Estimate</th><th scope=col>Pr(&gt;|t|)</th></tr></thead>\n",
       "<tbody>\n",
       "\t<tr><th scope=row>(Intercept)</th><td>0.001386203  </td><td> 2.393562e-02</td></tr>\n",
       "\t<tr><th scope=row>mkt</th><td>1.017863654  </td><td>1.296377e-287</td></tr>\n",
       "</tbody>\n",
       "</table>\n",
       "</dd>\n",
       "\t<dt>$Inverse.Vol</dt>\n",
       "\t\t<dd><table>\n",
       "<thead><tr><th></th><th scope=col>Estimate</th><th scope=col>Pr(&gt;|t|)</th></tr></thead>\n",
       "<tbody>\n",
       "\t<tr><th scope=row>(Intercept)</th><td>0.002106599  </td><td> 2.380071e-03</td></tr>\n",
       "\t<tr><th scope=row>mkt</th><td>0.834084244  </td><td>7.122030e-224</td></tr>\n",
       "</tbody>\n",
       "</table>\n",
       "</dd>\n",
       "\t<dt>$MVP.weighted</dt>\n",
       "\t\t<dd><table>\n",
       "<thead><tr><th></th><th scope=col>Estimate</th><th scope=col>Pr(&gt;|t|)</th></tr></thead>\n",
       "<tbody>\n",
       "\t<tr><th scope=row>(Intercept)</th><td>0.002752161 </td><td>1.043022e-02</td></tr>\n",
       "\t<tr><th scope=row>mkt</th><td>0.467963004 </td><td>5.483996e-69</td></tr>\n",
       "</tbody>\n",
       "</table>\n",
       "</dd>\n",
       "\t<dt>$FundamentalComposite</dt>\n",
       "\t\t<dd><table>\n",
       "<thead><tr><th></th><th scope=col>Estimate</th><th scope=col>Pr(&gt;|t|)</th></tr></thead>\n",
       "<tbody>\n",
       "\t<tr><th scope=row>(Intercept)</th><td>0.001607559  </td><td> 7.137652e-03</td></tr>\n",
       "\t<tr><th scope=row>mkt</th><td>0.897891979  </td><td>1.029640e-267</td></tr>\n",
       "</tbody>\n",
       "</table>\n",
       "</dd>\n",
       "</dl>\n"
      ],
      "text/latex": [
       "\\begin{description}\n",
       "\\item[\\$Market.cap.weighted] \\begin{tabular}{r|ll}\n",
       "  & Estimate & Pr(>\\textbar{}t\\textbar{})\\\\\n",
       "\\hline\n",
       "\t(Intercept) & 1.832807e-18 & 0.01423337  \\\\\n",
       "\tmkt & 1.000000e+00 & 0.00000000  \\\\\n",
       "\\end{tabular}\n",
       "\n",
       "\\item[\\$Equal.weighted] \\begin{tabular}{r|ll}\n",
       "  & Estimate & Pr(>\\textbar{}t\\textbar{})\\\\\n",
       "\\hline\n",
       "\t(Intercept) & 0.001386203   &  2.393562e-02\\\\\n",
       "\tmkt & 1.017863654   & 1.296377e-287\\\\\n",
       "\\end{tabular}\n",
       "\n",
       "\\item[\\$Inverse.Vol] \\begin{tabular}{r|ll}\n",
       "  & Estimate & Pr(>\\textbar{}t\\textbar{})\\\\\n",
       "\\hline\n",
       "\t(Intercept) & 0.002106599   &  2.380071e-03\\\\\n",
       "\tmkt & 0.834084244   & 7.122030e-224\\\\\n",
       "\\end{tabular}\n",
       "\n",
       "\\item[\\$MVP.weighted] \\begin{tabular}{r|ll}\n",
       "  & Estimate & Pr(>\\textbar{}t\\textbar{})\\\\\n",
       "\\hline\n",
       "\t(Intercept) & 0.002752161  & 1.043022e-02\\\\\n",
       "\tmkt & 0.467963004  & 5.483996e-69\\\\\n",
       "\\end{tabular}\n",
       "\n",
       "\\item[\\$FundamentalComposite] \\begin{tabular}{r|ll}\n",
       "  & Estimate & Pr(>\\textbar{}t\\textbar{})\\\\\n",
       "\\hline\n",
       "\t(Intercept) & 0.001607559   &  7.137652e-03\\\\\n",
       "\tmkt & 0.897891979   & 1.029640e-267\\\\\n",
       "\\end{tabular}\n",
       "\n",
       "\\end{description}\n"
      ],
      "text/markdown": [
       "$Market.cap.weighted\n",
       ":   \n",
       "| <!--/--> | Estimate | Pr(>|t|) |\n",
       "|---|---|---|\n",
       "| (Intercept) | 1.832807e-18 | 0.01423337   |\n",
       "| mkt | 1.000000e+00 | 0.00000000   |\n",
       "\n",
       "\n",
       "$Equal.weighted\n",
       ":   \n",
       "| <!--/--> | Estimate | Pr(>|t|) |\n",
       "|---|---|---|\n",
       "| (Intercept) | 0.001386203   |  2.393562e-02 |\n",
       "| mkt | 1.017863654   | 1.296377e-287 |\n",
       "\n",
       "\n",
       "$Inverse.Vol\n",
       ":   \n",
       "| <!--/--> | Estimate | Pr(>|t|) |\n",
       "|---|---|---|\n",
       "| (Intercept) | 0.002106599   |  2.380071e-03 |\n",
       "| mkt | 0.834084244   | 7.122030e-224 |\n",
       "\n",
       "\n",
       "$MVP.weighted\n",
       ":   \n",
       "| <!--/--> | Estimate | Pr(>|t|) |\n",
       "|---|---|---|\n",
       "| (Intercept) | 0.002752161  | 1.043022e-02 |\n",
       "| mkt | 0.467963004  | 5.483996e-69 |\n",
       "\n",
       "\n",
       "$FundamentalComposite\n",
       ":   \n",
       "| <!--/--> | Estimate | Pr(>|t|) |\n",
       "|---|---|---|\n",
       "| (Intercept) | 0.001607559   |  7.137652e-03 |\n",
       "| mkt | 0.897891979   | 1.029640e-267 |\n",
       "\n",
       "\n",
       "\n",
       "\n"
      ],
      "text/plain": [
       "$Market.cap.weighted\n",
       "                Estimate   Pr(>|t|)\n",
       "(Intercept) 1.832807e-18 0.01423337\n",
       "mkt         1.000000e+00 0.00000000\n",
       "\n",
       "$Equal.weighted\n",
       "               Estimate      Pr(>|t|)\n",
       "(Intercept) 0.001386203  2.393562e-02\n",
       "mkt         1.017863654 1.296377e-287\n",
       "\n",
       "$Inverse.Vol\n",
       "               Estimate      Pr(>|t|)\n",
       "(Intercept) 0.002106599  2.380071e-03\n",
       "mkt         0.834084244 7.122030e-224\n",
       "\n",
       "$MVP.weighted\n",
       "               Estimate     Pr(>|t|)\n",
       "(Intercept) 0.002752161 1.043022e-02\n",
       "mkt         0.467963004 5.483996e-69\n",
       "\n",
       "$FundamentalComposite\n",
       "               Estimate      Pr(>|t|)\n",
       "(Intercept) 0.001607559  7.137652e-03\n",
       "mkt         0.897891979 1.029640e-267\n"
      ]
     },
     "metadata": {},
     "output_type": "display_data"
    }
   ],
   "source": [
    "## CAPM: One factor Models \n",
    "strats = df[,strategy]\n",
    "mkt = df$Mkt.RF\n",
    "my_lms <- lapply(1:length(strategy), function(x) lm(strats[,x] ~mkt ))\n",
    "sapply(my_lms, coef) # coefficients \n",
    "summaries <- lapply(my_lms, summary)\n",
    "coeffs = lapply(summaries, function(x) x$coefficients[, c(1,4)])\n",
    "rquared = sapply(summaries, function(x) c(r_sq = x$r.squared, \n",
    "                                adj_r_sq = x$adj.r.squared))\n",
    "names(coeffs) = strategy\n",
    "colnames(rquared) = strategy\n",
    "coeffs\n",
    "\n",
    "#Perfect fit because the market cap weighted is the market portfolio so we are regressing it on itself \n",
    "# We can do this with for loops but I prefer writing functions and using lappy and sapply \n",
    "# as when files are bigger functional programming (like by using these functions) becomes more useful "
   ]
  },
  {
   "cell_type": "markdown",
   "metadata": {},
   "source": [
    "## Intepreting results \n",
    "<p>Alpha Interpretation: alpha represents abnormal returns. If the regression model fully explains the stock returns, alpha should be zero. Alpha is statistically insignificant and, thus, indistinguishable from zero if t-stat is higher than 1.96. From the results, we can infer that equal weighted, inverse volatility and minimum variance investment strategies can be fully explained by fluctuations market and other factors (No alpha). <p>\n",
    "    \n",
    "<p>Beta Interpretation: Beta measures the sensitivity of portfolio return to the factors. One additional unit of exposure to the factor would change the portfolio return by β percent. <p>"
   ]
  },
  {
   "cell_type": "code",
   "execution_count": 30,
   "metadata": {},
   "outputs": [
    {
     "data": {
      "text/html": [
       "<table>\n",
       "<thead><tr><th></th><th scope=col>Market.cap.weighted</th><th scope=col>Equal.weighted</th><th scope=col>Inverse.Vol</th><th scope=col>MVP.weighted</th><th scope=col>FundamentalComposite</th></tr></thead>\n",
       "<tbody>\n",
       "\t<tr><th scope=row>r_sq</th><td>1        </td><td>0.9225010</td><td>0.8628314</td><td>0.4512411</td><td>0.9073781</td></tr>\n",
       "\t<tr><th scope=row>adj_r_sq</th><td>1        </td><td>0.9223503</td><td>0.8625645</td><td>0.4501734</td><td>0.9071979</td></tr>\n",
       "</tbody>\n",
       "</table>\n"
      ],
      "text/latex": [
       "\\begin{tabular}{r|lllll}\n",
       "  & Market.cap.weighted & Equal.weighted & Inverse.Vol & MVP.weighted & FundamentalComposite\\\\\n",
       "\\hline\n",
       "\tr\\_sq & 1         & 0.9225010 & 0.8628314 & 0.4512411 & 0.9073781\\\\\n",
       "\tadj\\_r\\_sq & 1         & 0.9223503 & 0.8625645 & 0.4501734 & 0.9071979\\\\\n",
       "\\end{tabular}\n"
      ],
      "text/markdown": [
       "\n",
       "| <!--/--> | Market.cap.weighted | Equal.weighted | Inverse.Vol | MVP.weighted | FundamentalComposite |\n",
       "|---|---|---|---|---|---|\n",
       "| r_sq | 1         | 0.9225010 | 0.8628314 | 0.4512411 | 0.9073781 |\n",
       "| adj_r_sq | 1         | 0.9223503 | 0.8625645 | 0.4501734 | 0.9071979 |\n",
       "\n"
      ],
      "text/plain": [
       "         Market.cap.weighted Equal.weighted Inverse.Vol MVP.weighted\n",
       "r_sq     1                   0.9225010      0.8628314   0.4512411   \n",
       "adj_r_sq 1                   0.9223503      0.8625645   0.4501734   \n",
       "         FundamentalComposite\n",
       "r_sq     0.9073781           \n",
       "adj_r_sq 0.9071979           "
      ]
     },
     "metadata": {},
     "output_type": "display_data"
    }
   ],
   "source": [
    "rquared"
   ]
  },
  {
   "cell_type": "markdown",
   "metadata": {},
   "source": [
    "## Intepreting results \n",
    "\n",
    "<p> R-squared: R-squared measures the proportion of variance of returns that is explained by the factors of the model. The higher the  R-squared the more the one factor model explains of the stock returns.<p>\n",
    "    \n",
    "The alpha's are all statistically significant and positive for all strategies. Which suggests  deviation from one factor model, and that their is in fact value addition by using these investment strategies rather than the one factor model.<p>"
   ]
  },
  {
   "cell_type": "markdown",
   "metadata": {},
   "source": [
    "# Multifactor models \n",
    "Carhart four-factor model\n",
    "*** More here"
   ]
  },
  {
   "cell_type": "code",
   "execution_count": 31,
   "metadata": {},
   "outputs": [
    {
     "name": "stderr",
     "output_type": "stream",
     "text": [
      "Warning message in summary.lm(X[[i]], ...):\n",
      "“essentially perfect fit: summary may be unreliable”"
     ]
    },
    {
     "data": {
      "text/html": [
       "<dl>\n",
       "\t<dt>$Market.cap.weighted</dt>\n",
       "\t\t<dd><table>\n",
       "<thead><tr><th></th><th scope=col>Estimate</th><th scope=col>Pr(&gt;|t|)</th></tr></thead>\n",
       "<tbody>\n",
       "\t<tr><th scope=row>(Intercept)</th><td> 1.832807e-18</td><td>0.01785741   </td></tr>\n",
       "\t<tr><th scope=row>mkt</th><td> 1.000000e+00</td><td>0.00000000   </td></tr>\n",
       "\t<tr><th scope=row>smb</th><td>-2.925071e-17</td><td>0.23725310   </td></tr>\n",
       "\t<tr><th scope=row>hml</th><td>-2.486794e-17</td><td>0.35378808   </td></tr>\n",
       "\t<tr><th scope=row>mom</th><td>-1.724508e-17</td><td>0.31465136   </td></tr>\n",
       "</tbody>\n",
       "</table>\n",
       "</dd>\n",
       "\t<dt>$Equal.weighted</dt>\n",
       "\t\t<dd><table>\n",
       "<thead><tr><th></th><th scope=col>Estimate</th><th scope=col>Pr(&gt;|t|)</th></tr></thead>\n",
       "<tbody>\n",
       "\t<tr><th scope=row>(Intercept)</th><td> 0.0003682346</td><td>3.763556e-01 </td></tr>\n",
       "\t<tr><th scope=row>mkt</th><td> 1.0089421051</td><td>0.000000e+00 </td></tr>\n",
       "\t<tr><th scope=row>smb</th><td> 0.2693232523</td><td>3.690592e-67 </td></tr>\n",
       "\t<tr><th scope=row>hml</th><td> 0.2525463705</td><td>5.611962e-54 </td></tr>\n",
       "\t<tr><th scope=row>mom</th><td>-0.0411134135</td><td>1.054129e-05 </td></tr>\n",
       "</tbody>\n",
       "</table>\n",
       "</dd>\n",
       "\t<dt>$Inverse.Vol</dt>\n",
       "\t\t<dd><table>\n",
       "<thead><tr><th></th><th scope=col>Estimate</th><th scope=col>Pr(&gt;|t|)</th></tr></thead>\n",
       "<tbody>\n",
       "\t<tr><th scope=row>(Intercept)</th><td> 0.0004984436</td><td> 3.321951e-01</td></tr>\n",
       "\t<tr><th scope=row>mkt</th><td> 0.8910734744</td><td>2.655143e-281</td></tr>\n",
       "\t<tr><th scope=row>smb</th><td> 0.0837809864</td><td> 5.030700e-07</td></tr>\n",
       "\t<tr><th scope=row>hml</th><td> 0.3741591289</td><td> 6.340282e-71</td></tr>\n",
       "\t<tr><th scope=row>mom</th><td>-0.0214256601</td><td> 6.092227e-02</td></tr>\n",
       "</tbody>\n",
       "</table>\n",
       "</dd>\n",
       "\t<dt>$MVP.weighted</dt>\n",
       "\t\t<dd><table>\n",
       "<thead><tr><th></th><th scope=col>Estimate</th><th scope=col>Pr(&gt;|t|)</th></tr></thead>\n",
       "<tbody>\n",
       "\t<tr><th scope=row>(Intercept)</th><td> 0.0006691802</td><td>4.771825e-01 </td></tr>\n",
       "\t<tr><th scope=row>mkt</th><td> 0.5687342468</td><td>2.561723e-98 </td></tr>\n",
       "\t<tr><th scope=row>smb</th><td>-0.0398075985</td><td>1.873106e-01 </td></tr>\n",
       "\t<tr><th scope=row>hml</th><td> 0.4428690653</td><td>5.785612e-36 </td></tr>\n",
       "\t<tr><th scope=row>mom</th><td> 0.0099820002</td><td>6.330789e-01 </td></tr>\n",
       "</tbody>\n",
       "</table>\n",
       "</dd>\n",
       "\t<dt>$FundamentalComposite</dt>\n",
       "\t\t<dd><table>\n",
       "<thead><tr><th></th><th scope=col>Estimate</th><th scope=col>Pr(&gt;|t|)</th></tr></thead>\n",
       "<tbody>\n",
       "\t<tr><th scope=row>(Intercept)</th><td> 0.0006178264</td><td> 4.535934e-02</td></tr>\n",
       "\t<tr><th scope=row>mkt</th><td> 0.9787867245</td><td> 0.000000e+00</td></tr>\n",
       "\t<tr><th scope=row>smb</th><td>-0.0941712443</td><td> 5.773194e-20</td></tr>\n",
       "\t<tr><th scope=row>hml</th><td> 0.3428551722</td><td>2.296837e-124</td></tr>\n",
       "\t<tr><th scope=row>mom</th><td>-0.0694816144</td><td> 3.360367e-22</td></tr>\n",
       "</tbody>\n",
       "</table>\n",
       "</dd>\n",
       "</dl>\n"
      ],
      "text/latex": [
       "\\begin{description}\n",
       "\\item[\\$Market.cap.weighted] \\begin{tabular}{r|ll}\n",
       "  & Estimate & Pr(>\\textbar{}t\\textbar{})\\\\\n",
       "\\hline\n",
       "\t(Intercept) &  1.832807e-18 & 0.01785741   \\\\\n",
       "\tmkt &  1.000000e+00 & 0.00000000   \\\\\n",
       "\tsmb & -2.925071e-17 & 0.23725310   \\\\\n",
       "\thml & -2.486794e-17 & 0.35378808   \\\\\n",
       "\tmom & -1.724508e-17 & 0.31465136   \\\\\n",
       "\\end{tabular}\n",
       "\n",
       "\\item[\\$Equal.weighted] \\begin{tabular}{r|ll}\n",
       "  & Estimate & Pr(>\\textbar{}t\\textbar{})\\\\\n",
       "\\hline\n",
       "\t(Intercept) &  0.0003682346 & 3.763556e-01 \\\\\n",
       "\tmkt &  1.0089421051 & 0.000000e+00 \\\\\n",
       "\tsmb &  0.2693232523 & 3.690592e-67 \\\\\n",
       "\thml &  0.2525463705 & 5.611962e-54 \\\\\n",
       "\tmom & -0.0411134135 & 1.054129e-05 \\\\\n",
       "\\end{tabular}\n",
       "\n",
       "\\item[\\$Inverse.Vol] \\begin{tabular}{r|ll}\n",
       "  & Estimate & Pr(>\\textbar{}t\\textbar{})\\\\\n",
       "\\hline\n",
       "\t(Intercept) &  0.0004984436 &  3.321951e-01\\\\\n",
       "\tmkt &  0.8910734744 & 2.655143e-281\\\\\n",
       "\tsmb &  0.0837809864 &  5.030700e-07\\\\\n",
       "\thml &  0.3741591289 &  6.340282e-71\\\\\n",
       "\tmom & -0.0214256601 &  6.092227e-02\\\\\n",
       "\\end{tabular}\n",
       "\n",
       "\\item[\\$MVP.weighted] \\begin{tabular}{r|ll}\n",
       "  & Estimate & Pr(>\\textbar{}t\\textbar{})\\\\\n",
       "\\hline\n",
       "\t(Intercept) &  0.0006691802 & 4.771825e-01 \\\\\n",
       "\tmkt &  0.5687342468 & 2.561723e-98 \\\\\n",
       "\tsmb & -0.0398075985 & 1.873106e-01 \\\\\n",
       "\thml &  0.4428690653 & 5.785612e-36 \\\\\n",
       "\tmom &  0.0099820002 & 6.330789e-01 \\\\\n",
       "\\end{tabular}\n",
       "\n",
       "\\item[\\$FundamentalComposite] \\begin{tabular}{r|ll}\n",
       "  & Estimate & Pr(>\\textbar{}t\\textbar{})\\\\\n",
       "\\hline\n",
       "\t(Intercept) &  0.0006178264 &  4.535934e-02\\\\\n",
       "\tmkt &  0.9787867245 &  0.000000e+00\\\\\n",
       "\tsmb & -0.0941712443 &  5.773194e-20\\\\\n",
       "\thml &  0.3428551722 & 2.296837e-124\\\\\n",
       "\tmom & -0.0694816144 &  3.360367e-22\\\\\n",
       "\\end{tabular}\n",
       "\n",
       "\\end{description}\n"
      ],
      "text/markdown": [
       "$Market.cap.weighted\n",
       ":   \n",
       "| <!--/--> | Estimate | Pr(>|t|) |\n",
       "|---|---|---|\n",
       "| (Intercept) |  1.832807e-18 | 0.01785741    |\n",
       "| mkt |  1.000000e+00 | 0.00000000    |\n",
       "| smb | -2.925071e-17 | 0.23725310    |\n",
       "| hml | -2.486794e-17 | 0.35378808    |\n",
       "| mom | -1.724508e-17 | 0.31465136    |\n",
       "\n",
       "\n",
       "$Equal.weighted\n",
       ":   \n",
       "| <!--/--> | Estimate | Pr(>|t|) |\n",
       "|---|---|---|\n",
       "| (Intercept) |  0.0003682346 | 3.763556e-01  |\n",
       "| mkt |  1.0089421051 | 0.000000e+00  |\n",
       "| smb |  0.2693232523 | 3.690592e-67  |\n",
       "| hml |  0.2525463705 | 5.611962e-54  |\n",
       "| mom | -0.0411134135 | 1.054129e-05  |\n",
       "\n",
       "\n",
       "$Inverse.Vol\n",
       ":   \n",
       "| <!--/--> | Estimate | Pr(>|t|) |\n",
       "|---|---|---|\n",
       "| (Intercept) |  0.0004984436 |  3.321951e-01 |\n",
       "| mkt |  0.8910734744 | 2.655143e-281 |\n",
       "| smb |  0.0837809864 |  5.030700e-07 |\n",
       "| hml |  0.3741591289 |  6.340282e-71 |\n",
       "| mom | -0.0214256601 |  6.092227e-02 |\n",
       "\n",
       "\n",
       "$MVP.weighted\n",
       ":   \n",
       "| <!--/--> | Estimate | Pr(>|t|) |\n",
       "|---|---|---|\n",
       "| (Intercept) |  0.0006691802 | 4.771825e-01  |\n",
       "| mkt |  0.5687342468 | 2.561723e-98  |\n",
       "| smb | -0.0398075985 | 1.873106e-01  |\n",
       "| hml |  0.4428690653 | 5.785612e-36  |\n",
       "| mom |  0.0099820002 | 6.330789e-01  |\n",
       "\n",
       "\n",
       "$FundamentalComposite\n",
       ":   \n",
       "| <!--/--> | Estimate | Pr(>|t|) |\n",
       "|---|---|---|\n",
       "| (Intercept) |  0.0006178264 |  4.535934e-02 |\n",
       "| mkt |  0.9787867245 |  0.000000e+00 |\n",
       "| smb | -0.0941712443 |  5.773194e-20 |\n",
       "| hml |  0.3428551722 | 2.296837e-124 |\n",
       "| mom | -0.0694816144 |  3.360367e-22 |\n",
       "\n",
       "\n",
       "\n",
       "\n"
      ],
      "text/plain": [
       "$Market.cap.weighted\n",
       "                 Estimate   Pr(>|t|)\n",
       "(Intercept)  1.832807e-18 0.01785741\n",
       "mkt          1.000000e+00 0.00000000\n",
       "smb         -2.925071e-17 0.23725310\n",
       "hml         -2.486794e-17 0.35378808\n",
       "mom         -1.724508e-17 0.31465136\n",
       "\n",
       "$Equal.weighted\n",
       "                 Estimate     Pr(>|t|)\n",
       "(Intercept)  0.0003682346 3.763556e-01\n",
       "mkt          1.0089421051 0.000000e+00\n",
       "smb          0.2693232523 3.690592e-67\n",
       "hml          0.2525463705 5.611962e-54\n",
       "mom         -0.0411134135 1.054129e-05\n",
       "\n",
       "$Inverse.Vol\n",
       "                 Estimate      Pr(>|t|)\n",
       "(Intercept)  0.0004984436  3.321951e-01\n",
       "mkt          0.8910734744 2.655143e-281\n",
       "smb          0.0837809864  5.030700e-07\n",
       "hml          0.3741591289  6.340282e-71\n",
       "mom         -0.0214256601  6.092227e-02\n",
       "\n",
       "$MVP.weighted\n",
       "                 Estimate     Pr(>|t|)\n",
       "(Intercept)  0.0006691802 4.771825e-01\n",
       "mkt          0.5687342468 2.561723e-98\n",
       "smb         -0.0398075985 1.873106e-01\n",
       "hml          0.4428690653 5.785612e-36\n",
       "mom          0.0099820002 6.330789e-01\n",
       "\n",
       "$FundamentalComposite\n",
       "                 Estimate      Pr(>|t|)\n",
       "(Intercept)  0.0006178264  4.535934e-02\n",
       "mkt          0.9787867245  0.000000e+00\n",
       "smb         -0.0941712443  5.773194e-20\n",
       "hml          0.3428551722 2.296837e-124\n",
       "mom         -0.0694816144  3.360367e-22\n"
      ]
     },
     "metadata": {},
     "output_type": "display_data"
    }
   ],
   "source": [
    "### factor models \n",
    "smb = df$SMB  \n",
    "hml = df$HML\n",
    "mom = df$MOM \n",
    "multi <- lapply(1:length(strategy), function(x) lm(strats[,x] ~mkt + smb + hml + mom ))\n",
    "\n",
    "summariesmulti <- lapply(multi, summary)\n",
    "coeffsmulti = lapply(summariesmulti, function(x) x$coefficients[, c(1,4)])\n",
    "rquaredmulti = sapply(summariesmulti, function(x) c(r_sq = x$r.squared, \n",
    "                                          adj_r_sq = x$adj.r.squared))\n",
    "\n",
    "names(coeffsmulti) = strategy\n",
    "colnames(rquaredmulti) = strategy\n",
    "coeffsmulti"
   ]
  },
  {
   "cell_type": "markdown",
   "metadata": {},
   "source": [
    "## Intepreting results \n",
    "</p> Market cap weighted & Fundamental Composite strategies are now the only strategies that show statistically significant alphas (even though the market cap weighted is very small and negative, while the fundamental composite is positive but very small). \n",
    "\n",
    "P values less than 0.05 are statistically significant at 5% Level (0.01785741,0.04535934) and using t values if greater than 1.96.</p>"
   ]
  },
  {
   "cell_type": "code",
   "execution_count": 32,
   "metadata": {},
   "outputs": [
    {
     "data": {
      "text/html": [
       "<ol>\n",
       "\t<li><dl class=dl-horizontal>\n",
       "\t<dt>(Intercept)</dt>\n",
       "\t\t<dd>2.37624494413763</dd>\n",
       "\t<dt>mkt</dt>\n",
       "\t\t<dd>56964560519700856</dd>\n",
       "\t<dt>smb</dt>\n",
       "\t\t<dd>-1.18326809895615</dd>\n",
       "\t<dt>hml</dt>\n",
       "\t\t<dd>-0.928111163889149</dd>\n",
       "\t<dt>mom</dt>\n",
       "\t\t<dd>-1.00650022725045</dd>\n",
       "</dl>\n",
       "</li>\n",
       "\t<li><dl class=dl-horizontal>\n",
       "\t<dt>(Intercept)</dt>\n",
       "\t\t<dd>0.885403245147483</dd>\n",
       "\t<dt>mkt</dt>\n",
       "\t\t<dd>106.589126210394</dd>\n",
       "\t<dt>smb</dt>\n",
       "\t\t<dd>20.2051701210128</dd>\n",
       "\t<dt>hml</dt>\n",
       "\t\t<dd>17.480069772876</dd>\n",
       "\t<dt>mom</dt>\n",
       "\t\t<dd>-4.45014476274077</dd>\n",
       "</dl>\n",
       "</li>\n",
       "\t<li><dl class=dl-horizontal>\n",
       "\t<dt>(Intercept)</dt>\n",
       "\t\t<dd>0.970623256223619</dd>\n",
       "\t<dt>mkt</dt>\n",
       "\t\t<dd>76.2392096952227</dd>\n",
       "\t<dt>smb</dt>\n",
       "\t\t<dd>5.09040508917115</dd>\n",
       "\t<dt>hml</dt>\n",
       "\t\t<dd>20.9737743221407</dd>\n",
       "\t<dt>mom</dt>\n",
       "\t\t<dd>-1.87820514888987</dd>\n",
       "</dl>\n",
       "</li>\n",
       "\t<li><dl class=dl-horizontal>\n",
       "\t<dt>(Intercept)</dt>\n",
       "\t\t<dd>0.711365362362584</dd>\n",
       "\t<dt>mkt</dt>\n",
       "\t\t<dd>26.5637387816419</dd>\n",
       "\t<dt>smb</dt>\n",
       "\t\t<dd>-1.3203461520207</dd>\n",
       "\t<dt>hml</dt>\n",
       "\t\t<dd>13.5522230503847</dd>\n",
       "\t<dt>mom</dt>\n",
       "\t\t<dd>0.47768471138105</dd>\n",
       "</dl>\n",
       "</li>\n",
       "\t<li><dl class=dl-horizontal>\n",
       "\t<dt>(Intercept)</dt>\n",
       "\t\t<dd>2.00621927402637</dd>\n",
       "\t<dt>mkt</dt>\n",
       "\t\t<dd>139.646550412061</dd>\n",
       "\t<dt>smb</dt>\n",
       "\t\t<dd>-9.54118805752716</dd>\n",
       "\t<dt>hml</dt>\n",
       "\t\t<dd>32.0485379761405</dd>\n",
       "\t<dt>mom</dt>\n",
       "\t\t<dd>-10.156778687691</dd>\n",
       "</dl>\n",
       "</li>\n",
       "</ol>\n"
      ],
      "text/latex": [
       "\\begin{enumerate}\n",
       "\\item \\begin{description*}\n",
       "\\item[(Intercept)] 2.37624494413763\n",
       "\\item[mkt] 56964560519700856\n",
       "\\item[smb] -1.18326809895615\n",
       "\\item[hml] -0.928111163889149\n",
       "\\item[mom] -1.00650022725045\n",
       "\\end{description*}\n",
       "\n",
       "\\item \\begin{description*}\n",
       "\\item[(Intercept)] 0.885403245147483\n",
       "\\item[mkt] 106.589126210394\n",
       "\\item[smb] 20.2051701210128\n",
       "\\item[hml] 17.480069772876\n",
       "\\item[mom] -4.45014476274077\n",
       "\\end{description*}\n",
       "\n",
       "\\item \\begin{description*}\n",
       "\\item[(Intercept)] 0.970623256223619\n",
       "\\item[mkt] 76.2392096952227\n",
       "\\item[smb] 5.09040508917115\n",
       "\\item[hml] 20.9737743221407\n",
       "\\item[mom] -1.87820514888987\n",
       "\\end{description*}\n",
       "\n",
       "\\item \\begin{description*}\n",
       "\\item[(Intercept)] 0.711365362362584\n",
       "\\item[mkt] 26.5637387816419\n",
       "\\item[smb] -1.3203461520207\n",
       "\\item[hml] 13.5522230503847\n",
       "\\item[mom] 0.47768471138105\n",
       "\\end{description*}\n",
       "\n",
       "\\item \\begin{description*}\n",
       "\\item[(Intercept)] 2.00621927402637\n",
       "\\item[mkt] 139.646550412061\n",
       "\\item[smb] -9.54118805752716\n",
       "\\item[hml] 32.0485379761405\n",
       "\\item[mom] -10.156778687691\n",
       "\\end{description*}\n",
       "\n",
       "\\end{enumerate}\n"
      ],
      "text/markdown": [
       "1. (Intercept)\n",
       ":   2.37624494413763mkt\n",
       ":   56964560519700856smb\n",
       ":   -1.18326809895615hml\n",
       ":   -0.928111163889149mom\n",
       ":   -1.00650022725045\n",
       "\n",
       "\n",
       "2. (Intercept)\n",
       ":   0.885403245147483mkt\n",
       ":   106.589126210394smb\n",
       ":   20.2051701210128hml\n",
       ":   17.480069772876mom\n",
       ":   -4.45014476274077\n",
       "\n",
       "\n",
       "3. (Intercept)\n",
       ":   0.970623256223619mkt\n",
       ":   76.2392096952227smb\n",
       ":   5.09040508917115hml\n",
       ":   20.9737743221407mom\n",
       ":   -1.87820514888987\n",
       "\n",
       "\n",
       "4. (Intercept)\n",
       ":   0.711365362362584mkt\n",
       ":   26.5637387816419smb\n",
       ":   -1.3203461520207hml\n",
       ":   13.5522230503847mom\n",
       ":   0.47768471138105\n",
       "\n",
       "\n",
       "5. (Intercept)\n",
       ":   2.00621927402637mkt\n",
       ":   139.646550412061smb\n",
       ":   -9.54118805752716hml\n",
       ":   32.0485379761405mom\n",
       ":   -10.156778687691\n",
       "\n",
       "\n",
       "\n",
       "\n"
      ],
      "text/plain": [
       "[[1]]\n",
       "  (Intercept)           mkt           smb           hml           mom \n",
       " 2.376245e+00  5.696456e+16 -1.183268e+00 -9.281112e-01 -1.006500e+00 \n",
       "\n",
       "[[2]]\n",
       "(Intercept)         mkt         smb         hml         mom \n",
       "  0.8854032 106.5891262  20.2051701  17.4800698  -4.4501448 \n",
       "\n",
       "[[3]]\n",
       "(Intercept)         mkt         smb         hml         mom \n",
       "  0.9706233  76.2392097   5.0904051  20.9737743  -1.8782051 \n",
       "\n",
       "[[4]]\n",
       "(Intercept)         mkt         smb         hml         mom \n",
       "  0.7113654  26.5637388  -1.3203462  13.5522231   0.4776847 \n",
       "\n",
       "[[5]]\n",
       "(Intercept)         mkt         smb         hml         mom \n",
       "   2.006219  139.646550   -9.541188   32.048538  -10.156779 \n"
      ]
     },
     "metadata": {},
     "output_type": "display_data"
    }
   ],
   "source": [
    "tmulti = lapply(summariesmulti, function(x) x$coefficients[,3])\n",
    "tmulti"
   ]
  },
  {
   "cell_type": "code",
   "execution_count": 33,
   "metadata": {},
   "outputs": [
    {
     "data": {
      "text/html": [
       "<table>\n",
       "<thead><tr><th></th><th scope=col>Market.cap.weighted</th><th scope=col>Equal.weighted</th><th scope=col>Inverse.Vol</th><th scope=col>MVP.weighted</th><th scope=col>FundamentalComposite</th></tr></thead>\n",
       "<tbody>\n",
       "\t<tr><th scope=row>r_sq</th><td>1        </td><td>0.9667758</td><td>0.9294436</td><td>0.6066441</td><td>0.9769742</td></tr>\n",
       "\t<tr><th scope=row>adj_r_sq</th><td>1        </td><td>0.9665158</td><td>0.9288913</td><td>0.6035649</td><td>0.9767939</td></tr>\n",
       "</tbody>\n",
       "</table>\n"
      ],
      "text/latex": [
       "\\begin{tabular}{r|lllll}\n",
       "  & Market.cap.weighted & Equal.weighted & Inverse.Vol & MVP.weighted & FundamentalComposite\\\\\n",
       "\\hline\n",
       "\tr\\_sq & 1         & 0.9667758 & 0.9294436 & 0.6066441 & 0.9769742\\\\\n",
       "\tadj\\_r\\_sq & 1         & 0.9665158 & 0.9288913 & 0.6035649 & 0.9767939\\\\\n",
       "\\end{tabular}\n"
      ],
      "text/markdown": [
       "\n",
       "| <!--/--> | Market.cap.weighted | Equal.weighted | Inverse.Vol | MVP.weighted | FundamentalComposite |\n",
       "|---|---|---|---|---|---|\n",
       "| r_sq | 1         | 0.9667758 | 0.9294436 | 0.6066441 | 0.9769742 |\n",
       "| adj_r_sq | 1         | 0.9665158 | 0.9288913 | 0.6035649 | 0.9767939 |\n",
       "\n"
      ],
      "text/plain": [
       "         Market.cap.weighted Equal.weighted Inverse.Vol MVP.weighted\n",
       "r_sq     1                   0.9667758      0.9294436   0.6066441   \n",
       "adj_r_sq 1                   0.9665158      0.9288913   0.6035649   \n",
       "         FundamentalComposite\n",
       "r_sq     0.9769742           \n",
       "adj_r_sq 0.9767939           "
      ]
     },
     "metadata": {},
     "output_type": "display_data"
    }
   ],
   "source": [
    "rquaredmulti"
   ]
  },
  {
   "cell_type": "markdown",
   "metadata": {},
   "source": [
    "## Conclusion/Summary\n",
    "</p> According to our results, all strategies apart from market cap and fundamental composite strategies ’s alpha are all statistically insignificant and, thus, does not have an abnormal returns relative to known factors. This insignificance of alpha means that the return from these other strategies can be replicated by a combination of four factors and the strategy itself is not adding any extra value\n",
    "\n",
    "Four of these strategies (all except MVP weighted) have R squared's higher than 90% which  indicates that more than 90% of the common variance of the new strategy portfolio returns can be explained by the 4 factors..</p>"
   ]
  }
 ],
 "metadata": {
  "kernelspec": {
   "display_name": "R",
   "language": "R",
   "name": "ir"
  },
  "language_info": {
   "codemirror_mode": "r",
   "file_extension": ".r",
   "mimetype": "text/x-r-source",
   "name": "R",
   "pygments_lexer": "r",
   "version": "3.6.1"
  }
 },
 "nbformat": 4,
 "nbformat_minor": 4
}
